{
 "cells": [
  {
   "cell_type": "markdown",
   "metadata": {},
   "source": [
    "In this project we use customers visiting a certain mall data to group them and understand their spending habits.\n",
    "We will use KMeans clustering technique"
   ]
  },
  {
   "cell_type": "markdown",
   "metadata": {},
   "source": [
    "# Setting up environment"
   ]
  },
  {
   "cell_type": "code",
   "execution_count": 1,
   "metadata": {
    "execution": {
     "iopub.execute_input": "2023-07-14T07:51:32.247503Z",
     "iopub.status.busy": "2023-07-14T07:51:32.247024Z",
     "iopub.status.idle": "2023-07-14T07:51:32.255580Z",
     "shell.execute_reply": "2023-07-14T07:51:32.254151Z",
     "shell.execute_reply.started": "2023-07-14T07:51:32.247468Z"
    }
   },
   "outputs": [],
   "source": [
    "import pandas as pd\n",
    "import numpy as np\n",
    "import matplotlib.pyplot as plt\n",
    "import seaborn as sns\n",
    "%matplotlib inline"
   ]
  },
  {
   "cell_type": "code",
   "execution_count": 2,
   "metadata": {
    "execution": {
     "iopub.execute_input": "2023-07-14T07:51:32.259542Z",
     "iopub.status.busy": "2023-07-14T07:51:32.257815Z",
     "iopub.status.idle": "2023-07-14T07:51:32.278022Z",
     "shell.execute_reply": "2023-07-14T07:51:32.276727Z",
     "shell.execute_reply.started": "2023-07-14T07:51:32.259492Z"
    }
   },
   "outputs": [],
   "source": [
    "#load data\n",
    "df=pd.read_csv('Mall_Customers.csv')"
   ]
  },
  {
   "cell_type": "code",
   "execution_count": 3,
   "metadata": {
    "execution": {
     "iopub.execute_input": "2023-07-14T07:51:32.284830Z",
     "iopub.status.busy": "2023-07-14T07:51:32.283971Z",
     "iopub.status.idle": "2023-07-14T07:51:32.304491Z",
     "shell.execute_reply": "2023-07-14T07:51:32.303132Z",
     "shell.execute_reply.started": "2023-07-14T07:51:32.284776Z"
    }
   },
   "outputs": [
    {
     "data": {
      "text/html": [
       "<div>\n",
       "<style scoped>\n",
       "    .dataframe tbody tr th:only-of-type {\n",
       "        vertical-align: middle;\n",
       "    }\n",
       "\n",
       "    .dataframe tbody tr th {\n",
       "        vertical-align: top;\n",
       "    }\n",
       "\n",
       "    .dataframe thead th {\n",
       "        text-align: right;\n",
       "    }\n",
       "</style>\n",
       "<table border=\"1\" class=\"dataframe\">\n",
       "  <thead>\n",
       "    <tr style=\"text-align: right;\">\n",
       "      <th></th>\n",
       "      <th>CustomerID</th>\n",
       "      <th>Genre</th>\n",
       "      <th>Age</th>\n",
       "      <th>Annual Income (k$)</th>\n",
       "      <th>Spending Score (1-100)</th>\n",
       "    </tr>\n",
       "  </thead>\n",
       "  <tbody>\n",
       "    <tr>\n",
       "      <th>0</th>\n",
       "      <td>1</td>\n",
       "      <td>Male</td>\n",
       "      <td>19</td>\n",
       "      <td>15</td>\n",
       "      <td>39</td>\n",
       "    </tr>\n",
       "    <tr>\n",
       "      <th>1</th>\n",
       "      <td>2</td>\n",
       "      <td>Male</td>\n",
       "      <td>21</td>\n",
       "      <td>15</td>\n",
       "      <td>81</td>\n",
       "    </tr>\n",
       "    <tr>\n",
       "      <th>2</th>\n",
       "      <td>3</td>\n",
       "      <td>Female</td>\n",
       "      <td>20</td>\n",
       "      <td>16</td>\n",
       "      <td>6</td>\n",
       "    </tr>\n",
       "    <tr>\n",
       "      <th>3</th>\n",
       "      <td>4</td>\n",
       "      <td>Female</td>\n",
       "      <td>23</td>\n",
       "      <td>16</td>\n",
       "      <td>77</td>\n",
       "    </tr>\n",
       "    <tr>\n",
       "      <th>4</th>\n",
       "      <td>5</td>\n",
       "      <td>Female</td>\n",
       "      <td>31</td>\n",
       "      <td>17</td>\n",
       "      <td>40</td>\n",
       "    </tr>\n",
       "    <tr>\n",
       "      <th>...</th>\n",
       "      <td>...</td>\n",
       "      <td>...</td>\n",
       "      <td>...</td>\n",
       "      <td>...</td>\n",
       "      <td>...</td>\n",
       "    </tr>\n",
       "    <tr>\n",
       "      <th>195</th>\n",
       "      <td>196</td>\n",
       "      <td>Female</td>\n",
       "      <td>35</td>\n",
       "      <td>120</td>\n",
       "      <td>79</td>\n",
       "    </tr>\n",
       "    <tr>\n",
       "      <th>196</th>\n",
       "      <td>197</td>\n",
       "      <td>Female</td>\n",
       "      <td>45</td>\n",
       "      <td>126</td>\n",
       "      <td>28</td>\n",
       "    </tr>\n",
       "    <tr>\n",
       "      <th>197</th>\n",
       "      <td>198</td>\n",
       "      <td>Male</td>\n",
       "      <td>32</td>\n",
       "      <td>126</td>\n",
       "      <td>74</td>\n",
       "    </tr>\n",
       "    <tr>\n",
       "      <th>198</th>\n",
       "      <td>199</td>\n",
       "      <td>Male</td>\n",
       "      <td>32</td>\n",
       "      <td>137</td>\n",
       "      <td>18</td>\n",
       "    </tr>\n",
       "    <tr>\n",
       "      <th>199</th>\n",
       "      <td>200</td>\n",
       "      <td>Male</td>\n",
       "      <td>30</td>\n",
       "      <td>137</td>\n",
       "      <td>83</td>\n",
       "    </tr>\n",
       "  </tbody>\n",
       "</table>\n",
       "<p>200 rows × 5 columns</p>\n",
       "</div>"
      ],
      "text/plain": [
       "     CustomerID   Genre  Age  Annual Income (k$)  Spending Score (1-100)\n",
       "0             1    Male   19                  15                      39\n",
       "1             2    Male   21                  15                      81\n",
       "2             3  Female   20                  16                       6\n",
       "3             4  Female   23                  16                      77\n",
       "4             5  Female   31                  17                      40\n",
       "..          ...     ...  ...                 ...                     ...\n",
       "195         196  Female   35                 120                      79\n",
       "196         197  Female   45                 126                      28\n",
       "197         198    Male   32                 126                      74\n",
       "198         199    Male   32                 137                      18\n",
       "199         200    Male   30                 137                      83\n",
       "\n",
       "[200 rows x 5 columns]"
      ]
     },
     "execution_count": 3,
     "metadata": {},
     "output_type": "execute_result"
    }
   ],
   "source": [
    "df"
   ]
  },
  {
   "cell_type": "markdown",
   "metadata": {},
   "source": [
    "* No nulls\n",
    "* 200 rows\n",
    "* convert gender to numerical through label encoding"
   ]
  },
  {
   "cell_type": "code",
   "execution_count": 4,
   "metadata": {
    "execution": {
     "iopub.execute_input": "2023-07-14T07:51:32.308605Z",
     "iopub.status.busy": "2023-07-14T07:51:32.307601Z",
     "iopub.status.idle": "2023-07-14T07:51:32.324578Z",
     "shell.execute_reply": "2023-07-14T07:51:32.322887Z",
     "shell.execute_reply.started": "2023-07-14T07:51:32.308551Z"
    }
   },
   "outputs": [
    {
     "name": "stdout",
     "output_type": "stream",
     "text": [
      "<class 'pandas.core.frame.DataFrame'>\n",
      "RangeIndex: 200 entries, 0 to 199\n",
      "Data columns (total 5 columns):\n",
      " #   Column                  Non-Null Count  Dtype \n",
      "---  ------                  --------------  ----- \n",
      " 0   CustomerID              200 non-null    int64 \n",
      " 1   Genre                   200 non-null    object\n",
      " 2   Age                     200 non-null    int64 \n",
      " 3   Annual Income (k$)      200 non-null    int64 \n",
      " 4   Spending Score (1-100)  200 non-null    int64 \n",
      "dtypes: int64(4), object(1)\n",
      "memory usage: 7.9+ KB\n"
     ]
    }
   ],
   "source": [
    "df.info()"
   ]
  },
  {
   "cell_type": "code",
   "execution_count": 5,
   "metadata": {},
   "outputs": [],
   "source": [
    "df['Gender']=df['Genre']"
   ]
  },
  {
   "cell_type": "markdown",
   "metadata": {},
   "source": [
    "EDA"
   ]
  },
  {
   "cell_type": "code",
   "execution_count": 6,
   "metadata": {
    "execution": {
     "iopub.execute_input": "2023-07-14T07:51:32.328608Z",
     "iopub.status.busy": "2023-07-14T07:51:32.326380Z",
     "iopub.status.idle": "2023-07-14T07:51:32.632162Z",
     "shell.execute_reply": "2023-07-14T07:51:32.630765Z",
     "shell.execute_reply.started": "2023-07-14T07:51:32.328556Z"
    }
   },
   "outputs": [
    {
     "data": {
      "text/plain": [
       "<AxesSubplot:xlabel='Genre', ylabel='Spending Score (1-100)'>"
      ]
     },
     "execution_count": 6,
     "metadata": {},
     "output_type": "execute_result"
    },
    {
     "data": {
      "image/png": "[encoded data removed]",
      "text/plain": [
       "<Figure size 640x480 with 1 Axes>"
      ]
     },
     "metadata": {},
     "output_type": "display_data"
    }
   ],
   "source": [
    "sns.barplot(x='Genre',y='Spending Score (1-100)',data=df)"
   ]
  },
  {
   "cell_type": "markdown",
   "metadata": {},
   "source": [
    "* Spending habits for both male and female isnt that much distinct"
   ]
  },
  {
   "cell_type": "code",
   "execution_count": 7,
   "metadata": {
    "execution": {
     "iopub.execute_input": "2023-07-14T07:51:32.635952Z",
     "iopub.status.busy": "2023-07-14T07:51:32.635514Z",
     "iopub.status.idle": "2023-07-14T07:51:33.071242Z",
     "shell.execute_reply": "2023-07-14T07:51:33.070234Z",
     "shell.execute_reply.started": "2023-07-14T07:51:32.635916Z"
    }
   },
   "outputs": [
    {
     "data": {
      "text/plain": [
       "<AxesSubplot:xlabel='Annual Income (k$)', ylabel='Spending Score (1-100)'>"
      ]
     },
     "execution_count": 7,
     "metadata": {},
     "output_type": "execute_result"
    },
    {
     "data": {
      "image/png": "[encoded data removed]",
      "text/plain": [
       "<Figure size 640x480 with 1 Axes>"
      ]
     },
     "metadata": {},
     "output_type": "display_data"
    }
   ],
   "source": [
    "sns.scatterplot(x='Annual Income (k$)',y='Spending Score (1-100)',data=df,hue='Gender')"
   ]
  },
  {
   "cell_type": "code",
   "execution_count": 8,
   "metadata": {
    "execution": {
     "iopub.execute_input": "2023-07-14T07:51:33.073055Z",
     "iopub.status.busy": "2023-07-14T07:51:33.072435Z",
     "iopub.status.idle": "2023-07-14T07:51:33.079351Z",
     "shell.execute_reply": "2023-07-14T07:51:33.078242Z",
     "shell.execute_reply.started": "2023-07-14T07:51:33.073021Z"
    }
   },
   "outputs": [],
   "source": [
    "from sklearn.preprocessing import LabelEncoder\n",
    "\n",
    "# Initialize the OneHotEncoder object\n",
    "encoder = LabelEncoder()\n",
    "\n",
    "# Fit and transform the data to perform one-hot encoding\n",
    "df['Gender'] = encoder.fit_transform(df['Gender'])"
   ]
  },
  {
   "cell_type": "code",
   "execution_count": 13,
   "metadata": {
    "execution": {
     "iopub.execute_input": "2023-07-14T07:51:33.081886Z",
     "iopub.status.busy": "2023-07-14T07:51:33.080929Z",
     "iopub.status.idle": "2023-07-14T07:51:33.096605Z",
     "shell.execute_reply": "2023-07-14T07:51:33.095504Z",
     "shell.execute_reply.started": "2023-07-14T07:51:33.081850Z"
    }
   },
   "outputs": [],
   "source": [
    "df=df.drop(['CustomerID','Genre'],axis=1)\n"
   ]
  },
  {
   "cell_type": "code",
   "execution_count": 14,
   "metadata": {
    "execution": {
     "iopub.execute_input": "2023-07-14T07:51:33.099201Z",
     "iopub.status.busy": "2023-07-14T07:51:33.098524Z",
     "iopub.status.idle": "2023-07-14T07:51:33.117784Z",
     "shell.execute_reply": "2023-07-14T07:51:33.116882Z",
     "shell.execute_reply.started": "2023-07-14T07:51:33.099157Z"
    }
   },
   "outputs": [],
   "source": [
    "from sklearn.cluster import KMeans\n",
    "km=KMeans(n_clusters=5)"
   ]
  },
  {
   "cell_type": "code",
   "execution_count": 15,
   "metadata": {
    "execution": {
     "iopub.execute_input": "2023-07-14T07:51:33.122144Z",
     "iopub.status.busy": "2023-07-14T07:51:33.120970Z",
     "iopub.status.idle": "2023-07-14T07:51:33.170647Z",
     "shell.execute_reply": "2023-07-14T07:51:33.169605Z",
     "shell.execute_reply.started": "2023-07-14T07:51:33.122088Z"
    }
   },
   "outputs": [
    {
     "data": {
      "text/plain": [
       "KMeans(n_clusters=5)"
      ]
     },
     "execution_count": 15,
     "metadata": {},
     "output_type": "execute_result"
    }
   ],
   "source": [
    "km.fit(df)"
   ]
  },
  {
   "cell_type": "code",
   "execution_count": 16,
   "metadata": {
    "execution": {
     "iopub.execute_input": "2023-07-14T07:51:33.172806Z",
     "iopub.status.busy": "2023-07-14T07:51:33.171965Z",
     "iopub.status.idle": "2023-07-14T07:51:33.179638Z",
     "shell.execute_reply": "2023-07-14T07:51:33.178266Z",
     "shell.execute_reply.started": "2023-07-14T07:51:33.172771Z"
    }
   },
   "outputs": [
    {
     "data": {
      "text/plain": [
       "array([[45.2173913 , 26.30434783, 20.91304348,  0.39130435],\n",
       "       [32.69230769, 86.53846154, 82.12820513,  0.46153846],\n",
       "       [25.52173913, 26.30434783, 78.56521739,  0.39130435],\n",
       "       [40.66666667, 87.75      , 17.58333333,  0.52777778],\n",
       "       [43.08860759, 55.29113924, 49.56962025,  0.41772152]])"
      ]
     },
     "execution_count": 16,
     "metadata": {},
     "output_type": "execute_result"
    }
   ],
   "source": [
    "km.cluster_centers_"
   ]
  },
  {
   "cell_type": "code",
   "execution_count": 17,
   "metadata": {
    "execution": {
     "iopub.execute_input": "2023-07-14T07:51:33.182389Z",
     "iopub.status.busy": "2023-07-14T07:51:33.181469Z",
     "iopub.status.idle": "2023-07-14T07:51:33.205148Z",
     "shell.execute_reply": "2023-07-14T07:51:33.203428Z",
     "shell.execute_reply.started": "2023-07-14T07:51:33.182350Z"
    }
   },
   "outputs": [
    {
     "name": "stdout",
     "output_type": "stream",
     "text": [
      "Silhouette Score: 0.4440669204743008\n"
     ]
    }
   ],
   "source": [
    "from sklearn.metrics import silhouette_score\n",
    "\n",
    "silhouette_avg = silhouette_score(df, km.labels_)\n",
    "print(\"Silhouette Score:\", silhouette_avg)\n",
    "##the closer the score is to 1,the better the perfomance"
   ]
  },
  {
   "cell_type": "markdown",
   "metadata": {},
   "source": [
    "The score can be increased by fine tuning this model or feature scaling "
   ]
  }
 ],
 "metadata": {
  "kernelspec": {
   "display_name": "Python 3 (ipykernel)",
   "language": "python",
   "name": "python3"
  },
  "language_info": {
   "codemirror_mode": {
    "name": "ipython",
    "version": 3
   },
   "file_extension": ".py",
   "mimetype": "text/x-python",
   "name": "python",
   "nbconvert_exporter": "python",
   "pygments_lexer": "ipython3",
   "version": "3.9.13"
  }
 },
 "nbformat": 4,
 "nbformat_minor": 4
}
